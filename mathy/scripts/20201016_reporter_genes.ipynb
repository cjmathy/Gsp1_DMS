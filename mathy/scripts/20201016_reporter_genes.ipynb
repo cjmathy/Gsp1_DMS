{
 "metadata": {
  "language_info": {
   "codemirror_mode": {
    "name": "ipython",
    "version": 3
   },
   "file_extension": ".py",
   "mimetype": "text/x-python",
   "name": "python",
   "nbconvert_exporter": "python",
   "pygments_lexer": "ipython3",
   "version": "3.8.5-final"
  },
  "orig_nbformat": 2,
  "kernelspec": {
   "name": "ir",
   "display_name": "R"
  }
 },
 "nbformat": 4,
 "nbformat_minor": 2,
 "cells": [
  {
   "cell_type": "code",
   "execution_count": 3,
   "metadata": {},
   "outputs": [
    {
     "output_type": "stream",
     "name": "stderr",
     "text": [
      "-- \u001b[1mAttaching packages\u001b[22m --------------------------------------- tidyverse 1.3.0 --\n",
      "\n",
      "\u001b[32mv\u001b[39m \u001b[34mggplot2\u001b[39m 3.3.2     \u001b[32mv\u001b[39m \u001b[34mpurrr  \u001b[39m 0.3.4\n",
      "\u001b[32mv\u001b[39m \u001b[34mtibble \u001b[39m 3.0.3     \u001b[32mv\u001b[39m \u001b[34mdplyr  \u001b[39m 1.0.2\n",
      "\u001b[32mv\u001b[39m \u001b[34mtidyr  \u001b[39m 1.1.2     \u001b[32mv\u001b[39m \u001b[34mstringr\u001b[39m 1.4.0\n",
      "\u001b[32mv\u001b[39m \u001b[34mreadr  \u001b[39m 1.3.1     \u001b[32mv\u001b[39m \u001b[34mforcats\u001b[39m 0.5.0\n",
      "\n",
      "-- \u001b[1mConflicts\u001b[22m ------------------------------------------ tidyverse_conflicts() --\n",
      "\u001b[31mx\u001b[39m \u001b[34mdplyr\u001b[39m::\u001b[32mfilter()\u001b[39m masks \u001b[34mstats\u001b[39m::filter()\n",
      "\u001b[31mx\u001b[39m \u001b[34mdplyr\u001b[39m::\u001b[32mlag()\u001b[39m    masks \u001b[34mstats\u001b[39m::lag()\n",
      "\n"
     ]
    }
   ],
   "source": [
    "library(tidyverse)"
   ]
  },
  {
   "cell_type": "code",
   "execution_count": 12,
   "metadata": {},
   "outputs": [],
   "source": [
    "emap <-\n",
    "  read_tsv('../data/gsp1_pEMAP_avg_merged_gene_names.txt', col_types = cols()) %>%\n",
    "  gather(-Gene, key = strain, value = score) %>%\n",
    "  separate(strain, 'library_gene', sep = ' - ', remove = TRUE, extra = 'drop') %>%\n",
    "  separate(Gene, c('Gene', 'mutant'), sep = ' - ') %>%\n",
    "  filter(! mutant %in% c('GSP1-NAT', 'T34N', 'NTER3XFLAG WT', 'CTER3XFLAG WT')) # %>%\n",
    "#   group_by(mutant) %>%\n",
    "#   mutate(mean_emap_score = mean(score, na.rm = T),\n",
    "#          median_emap_score = median(score, na.rm = T),\n",
    "#          sd_emap_score = sd(score, na.rm = T),\n",
    "#          emap_score_range = max(score, na.rm = T) - min(score, na.rm = T),\n",
    "#          emap_lower_quantile = quantile(score, probs=0.1, na.rm = T),\n",
    "#          emap_upper_quantile = quantile(score, probs=0.9, na.rm = T)) %>%\n",
    "#   ungroup()\n",
    "\n",
    "dms_6gen <- read_csv('../../Data/6gen_fitness_current.csv', col_types=cols())\n",
    "dms_15gen <- read_csv('../../Data/15gen_fitness_current.csv', col_types=cols())"
   ]
  },
  {
   "cell_type": "code",
   "execution_count": 14,
   "metadata": {},
   "outputs": [
    {
     "output_type": "display_data",
     "data": {
      "text/html": "<table>\n<caption>A tibble: 6 × 4</caption>\n<thead>\n\t<tr><th scope=col>Gene</th><th scope=col>mutant</th><th scope=col>library_gene</th><th scope=col>score</th></tr>\n\t<tr><th scope=col>&lt;chr&gt;</th><th scope=col>&lt;chr&gt;</th><th scope=col>&lt;chr&gt;</th><th scope=col>&lt;dbl&gt;</th></tr>\n</thead>\n<tbody>\n\t<tr><td>GSP1</td><td>A180T</td><td>WT HIS3D::KAN</td><td> 0.042369</td></tr>\n\t<tr><td>GSP1</td><td>D79A </td><td>WT HIS3D::KAN</td><td>-0.415407</td></tr>\n\t<tr><td>GSP1</td><td>D79S </td><td>WT HIS3D::KAN</td><td> 0.050212</td></tr>\n\t<tr><td>GSP1</td><td>E115A</td><td>WT HIS3D::KAN</td><td>-0.077551</td></tr>\n\t<tr><td>GSP1</td><td>E115I</td><td>WT HIS3D::KAN</td><td>-0.117599</td></tr>\n\t<tr><td>GSP1</td><td>F58A </td><td>WT HIS3D::KAN</td><td>-0.001744</td></tr>\n</tbody>\n</table>\n",
      "text/markdown": "\nA tibble: 6 × 4\n\n| Gene &lt;chr&gt; | mutant &lt;chr&gt; | library_gene &lt;chr&gt; | score &lt;dbl&gt; |\n|---|---|---|---|\n| GSP1 | A180T | WT HIS3D::KAN |  0.042369 |\n| GSP1 | D79A  | WT HIS3D::KAN | -0.415407 |\n| GSP1 | D79S  | WT HIS3D::KAN |  0.050212 |\n| GSP1 | E115A | WT HIS3D::KAN | -0.077551 |\n| GSP1 | E115I | WT HIS3D::KAN | -0.117599 |\n| GSP1 | F58A  | WT HIS3D::KAN | -0.001744 |\n\n",
      "text/latex": "A tibble: 6 × 4\n\\begin{tabular}{llll}\n Gene & mutant & library\\_gene & score\\\\\n <chr> & <chr> & <chr> & <dbl>\\\\\n\\hline\n\t GSP1 & A180T & WT HIS3D::KAN &  0.042369\\\\\n\t GSP1 & D79A  & WT HIS3D::KAN & -0.415407\\\\\n\t GSP1 & D79S  & WT HIS3D::KAN &  0.050212\\\\\n\t GSP1 & E115A & WT HIS3D::KAN & -0.077551\\\\\n\t GSP1 & E115I & WT HIS3D::KAN & -0.117599\\\\\n\t GSP1 & F58A  & WT HIS3D::KAN & -0.001744\\\\\n\\end{tabular}\n",
      "text/plain": "  Gene mutant library_gene  score    \n1 GSP1 A180T  WT HIS3D::KAN  0.042369\n2 GSP1 D79A   WT HIS3D::KAN -0.415407\n3 GSP1 D79S   WT HIS3D::KAN  0.050212\n4 GSP1 E115A  WT HIS3D::KAN -0.077551\n5 GSP1 E115I  WT HIS3D::KAN -0.117599\n6 GSP1 F58A   WT HIS3D::KAN -0.001744"
     },
     "metadata": {}
    }
   ],
   "source": []
  },
  {
   "cell_type": "code",
   "execution_count": 16,
   "metadata": {},
   "outputs": [
    {
     "output_type": "display_data",
     "data": {
      "text/html": "<table>\n<caption>A spec_tbl_df: 55 × 6</caption>\n<thead>\n\t<tr><th scope=col>mutant</th><th scope=col>aa_from</th><th scope=col>position</th><th scope=col>aa_to</th><th scope=col>score</th><th scope=col>bin</th></tr>\n\t<tr><th scope=col>&lt;chr&gt;</th><th scope=col>&lt;chr&gt;</th><th scope=col>&lt;dbl&gt;</th><th scope=col>&lt;chr&gt;</th><th scope=col>&lt;dbl&gt;</th><th scope=col>&lt;chr&gt;</th></tr>\n</thead>\n<tbody>\n\t<tr><td>T34Y </td><td>T</td><td> 34</td><td>Y</td><td>-1.71981970</td><td>neutral   </td></tr>\n\t<tr><td>T34L </td><td>T</td><td> 34</td><td>L</td><td>-0.78454334</td><td>neutral   </td></tr>\n\t<tr><td>T34A </td><td>T</td><td> 34</td><td>A</td><td>-1.03207030</td><td>neutral   </td></tr>\n\t<tr><td>T34G </td><td>T</td><td> 34</td><td>G</td><td>-4.91296960</td><td>STOP-like </td></tr>\n\t<tr><td>T34S </td><td>T</td><td> 34</td><td>S</td><td>-0.38168152</td><td>beneficial</td></tr>\n\t<tr><td>T34Q </td><td>T</td><td> 34</td><td>Q</td><td>-1.02162358</td><td>neutral   </td></tr>\n\t<tr><td>T34D </td><td>T</td><td> 34</td><td>D</td><td>-0.90257556</td><td>neutral   </td></tr>\n\t<tr><td>T34E </td><td>T</td><td> 34</td><td>E</td><td>-1.10178255</td><td>neutral   </td></tr>\n\t<tr><td>F58L </td><td>F</td><td> 58</td><td>L</td><td>-0.98530218</td><td>neutral   </td></tr>\n\t<tr><td>F58A </td><td>F</td><td> 58</td><td>A</td><td>-1.04584346</td><td>neutral   </td></tr>\n\t<tr><td>R78K </td><td>R</td><td> 78</td><td>K</td><td>-1.86873903</td><td>neutral   </td></tr>\n\t<tr><td>D79A </td><td>D</td><td> 79</td><td>A</td><td>-1.92064608</td><td>neutral   </td></tr>\n\t<tr><td>D79S </td><td>D</td><td> 79</td><td>S</td><td>-1.70921163</td><td>neutral   </td></tr>\n\t<tr><td>G80A </td><td>G</td><td> 80</td><td>A</td><td>-0.28226244</td><td>beneficial</td></tr>\n\t<tr><td>N84Y </td><td>N</td><td> 84</td><td>Y</td><td>-1.32423380</td><td>neutral   </td></tr>\n\t<tr><td>K101R</td><td>K</td><td>101</td><td>R</td><td>-1.62186059</td><td>neutral   </td></tr>\n\t<tr><td>N102I</td><td>N</td><td>102</td><td>I</td><td>-0.54798272</td><td>neutral   </td></tr>\n\t<tr><td>N102M</td><td>N</td><td>102</td><td>M</td><td>-0.09161232</td><td>beneficial</td></tr>\n\t<tr><td>N102K</td><td>N</td><td>102</td><td>K</td><td>-2.76071624</td><td>STOP-like </td></tr>\n\t<tr><td>N105L</td><td>N</td><td>105</td><td>L</td><td>-0.87568306</td><td>neutral   </td></tr>\n\t<tr><td>N105V</td><td>N</td><td>105</td><td>V</td><td>-0.74153276</td><td>neutral   </td></tr>\n\t<tr><td>R108Y</td><td>R</td><td>108</td><td>Y</td><td>-0.62040010</td><td>neutral   </td></tr>\n\t<tr><td>R108L</td><td>R</td><td>108</td><td>L</td><td>-0.58705206</td><td>neutral   </td></tr>\n\t<tr><td>R108I</td><td>R</td><td>108</td><td>I</td><td>-0.47962620</td><td>beneficial</td></tr>\n\t<tr><td>R108A</td><td>R</td><td>108</td><td>A</td><td>-1.14811871</td><td>neutral   </td></tr>\n\t<tr><td>R108G</td><td>R</td><td>108</td><td>G</td><td>-0.88274733</td><td>neutral   </td></tr>\n\t<tr><td>R108S</td><td>R</td><td>108</td><td>S</td><td>-0.79810340</td><td>neutral   </td></tr>\n\t<tr><td>R108Q</td><td>R</td><td>108</td><td>Q</td><td>-0.73122353</td><td>neutral   </td></tr>\n\t<tr><td>R108D</td><td>R</td><td>108</td><td>D</td><td>-0.80199357</td><td>neutral   </td></tr>\n\t<tr><td>R112A</td><td>R</td><td>112</td><td>A</td><td>-0.94717468</td><td>neutral   </td></tr>\n\t<tr><td>R112S</td><td>R</td><td>112</td><td>S</td><td>-0.91511496</td><td>neutral   </td></tr>\n\t<tr><td>E115I</td><td>E</td><td>115</td><td>I</td><td>-1.14581034</td><td>neutral   </td></tr>\n\t<tr><td>E115A</td><td>E</td><td>115</td><td>A</td><td>-1.86391125</td><td>neutral   </td></tr>\n\t<tr><td>K129F</td><td>K</td><td>129</td><td>F</td><td>-3.21391408</td><td>STOP-like </td></tr>\n\t<tr><td>K129I</td><td>K</td><td>129</td><td>I</td><td>-1.22834811</td><td>neutral   </td></tr>\n\t<tr><td>K129T</td><td>K</td><td>129</td><td>T</td><td>-0.91513869</td><td>neutral   </td></tr>\n\t<tr><td>K129E</td><td>K</td><td>129</td><td>E</td><td>-1.04115226</td><td>neutral   </td></tr>\n\t<tr><td>K132H</td><td>K</td><td>132</td><td>H</td><td>-1.73632777</td><td>neutral   </td></tr>\n\t<tr><td>T137G</td><td>T</td><td>137</td><td>G</td><td>-0.86319129</td><td>neutral   </td></tr>\n\t<tr><td>T139A</td><td>T</td><td>139</td><td>A</td><td>-0.72030827</td><td>neutral   </td></tr>\n\t<tr><td>T139R</td><td>T</td><td>139</td><td>R</td><td>-1.36316718</td><td>neutral   </td></tr>\n\t<tr><td>H141I</td><td>H</td><td>141</td><td>I</td><td>-0.34702572</td><td>beneficial</td></tr>\n\t<tr><td>H141V</td><td>H</td><td>141</td><td>V</td><td>-1.89311206</td><td>neutral   </td></tr>\n\t<tr><td>H141R</td><td>H</td><td>141</td><td>R</td><td>-1.42295179</td><td>neutral   </td></tr>\n\t<tr><td>H141E</td><td>H</td><td>141</td><td>E</td><td>-2.45690165</td><td>STOP-like </td></tr>\n\t<tr><td>K143W</td><td>K</td><td>143</td><td>W</td><td>-1.41420232</td><td>neutral   </td></tr>\n\t<tr><td>K143Y</td><td>K</td><td>143</td><td>Y</td><td>-0.10289534</td><td>beneficial</td></tr>\n\t<tr><td>K143H</td><td>K</td><td>143</td><td>H</td><td>-0.60743252</td><td>neutral   </td></tr>\n\t<tr><td>Q147L</td><td>Q</td><td>147</td><td>L</td><td>-0.62726664</td><td>neutral   </td></tr>\n\t<tr><td>Q147E</td><td>Q</td><td>147</td><td>E</td><td>-0.56667296</td><td>neutral   </td></tr>\n\t<tr><td>Y148I</td><td>Y</td><td>148</td><td>I</td><td>-0.42439864</td><td>beneficial</td></tr>\n\t<tr><td>K154M</td><td>K</td><td>154</td><td>M</td><td>-0.72377329</td><td>neutral   </td></tr>\n\t<tr><td>Y157A</td><td>Y</td><td>157</td><td>A</td><td>-2.70423760</td><td>STOP-like </td></tr>\n\t<tr><td>K169I</td><td>K</td><td>169</td><td>I</td><td>-1.36568159</td><td>neutral   </td></tr>\n\t<tr><td>A180T</td><td>A</td><td>180</td><td>T</td><td>-3.41814286</td><td>STOP-like </td></tr>\n</tbody>\n</table>\n",
      "text/markdown": "\nA spec_tbl_df: 55 × 6\n\n| mutant &lt;chr&gt; | aa_from &lt;chr&gt; | position &lt;dbl&gt; | aa_to &lt;chr&gt; | score &lt;dbl&gt; | bin &lt;chr&gt; |\n|---|---|---|---|---|---|\n| T34Y  | T |  34 | Y | -1.71981970 | neutral    |\n| T34L  | T |  34 | L | -0.78454334 | neutral    |\n| T34A  | T |  34 | A | -1.03207030 | neutral    |\n| T34G  | T |  34 | G | -4.91296960 | STOP-like  |\n| T34S  | T |  34 | S | -0.38168152 | beneficial |\n| T34Q  | T |  34 | Q | -1.02162358 | neutral    |\n| T34D  | T |  34 | D | -0.90257556 | neutral    |\n| T34E  | T |  34 | E | -1.10178255 | neutral    |\n| F58L  | F |  58 | L | -0.98530218 | neutral    |\n| F58A  | F |  58 | A | -1.04584346 | neutral    |\n| R78K  | R |  78 | K | -1.86873903 | neutral    |\n| D79A  | D |  79 | A | -1.92064608 | neutral    |\n| D79S  | D |  79 | S | -1.70921163 | neutral    |\n| G80A  | G |  80 | A | -0.28226244 | beneficial |\n| N84Y  | N |  84 | Y | -1.32423380 | neutral    |\n| K101R | K | 101 | R | -1.62186059 | neutral    |\n| N102I | N | 102 | I | -0.54798272 | neutral    |\n| N102M | N | 102 | M | -0.09161232 | beneficial |\n| N102K | N | 102 | K | -2.76071624 | STOP-like  |\n| N105L | N | 105 | L | -0.87568306 | neutral    |\n| N105V | N | 105 | V | -0.74153276 | neutral    |\n| R108Y | R | 108 | Y | -0.62040010 | neutral    |\n| R108L | R | 108 | L | -0.58705206 | neutral    |\n| R108I | R | 108 | I | -0.47962620 | beneficial |\n| R108A | R | 108 | A | -1.14811871 | neutral    |\n| R108G | R | 108 | G | -0.88274733 | neutral    |\n| R108S | R | 108 | S | -0.79810340 | neutral    |\n| R108Q | R | 108 | Q | -0.73122353 | neutral    |\n| R108D | R | 108 | D | -0.80199357 | neutral    |\n| R112A | R | 112 | A | -0.94717468 | neutral    |\n| R112S | R | 112 | S | -0.91511496 | neutral    |\n| E115I | E | 115 | I | -1.14581034 | neutral    |\n| E115A | E | 115 | A | -1.86391125 | neutral    |\n| K129F | K | 129 | F | -3.21391408 | STOP-like  |\n| K129I | K | 129 | I | -1.22834811 | neutral    |\n| K129T | K | 129 | T | -0.91513869 | neutral    |\n| K129E | K | 129 | E | -1.04115226 | neutral    |\n| K132H | K | 132 | H | -1.73632777 | neutral    |\n| T137G | T | 137 | G | -0.86319129 | neutral    |\n| T139A | T | 139 | A | -0.72030827 | neutral    |\n| T139R | T | 139 | R | -1.36316718 | neutral    |\n| H141I | H | 141 | I | -0.34702572 | beneficial |\n| H141V | H | 141 | V | -1.89311206 | neutral    |\n| H141R | H | 141 | R | -1.42295179 | neutral    |\n| H141E | H | 141 | E | -2.45690165 | STOP-like  |\n| K143W | K | 143 | W | -1.41420232 | neutral    |\n| K143Y | K | 143 | Y | -0.10289534 | beneficial |\n| K143H | K | 143 | H | -0.60743252 | neutral    |\n| Q147L | Q | 147 | L | -0.62726664 | neutral    |\n| Q147E | Q | 147 | E | -0.56667296 | neutral    |\n| Y148I | Y | 148 | I | -0.42439864 | beneficial |\n| K154M | K | 154 | M | -0.72377329 | neutral    |\n| Y157A | Y | 157 | A | -2.70423760 | STOP-like  |\n| K169I | K | 169 | I | -1.36568159 | neutral    |\n| A180T | A | 180 | T | -3.41814286 | STOP-like  |\n\n",
      "text/latex": "A spec\\_tbl\\_df: 55 × 6\n\\begin{tabular}{llllll}\n mutant & aa\\_from & position & aa\\_to & score & bin\\\\\n <chr> & <chr> & <dbl> & <chr> & <dbl> & <chr>\\\\\n\\hline\n\t T34Y  & T &  34 & Y & -1.71981970 & neutral   \\\\\n\t T34L  & T &  34 & L & -0.78454334 & neutral   \\\\\n\t T34A  & T &  34 & A & -1.03207030 & neutral   \\\\\n\t T34G  & T &  34 & G & -4.91296960 & STOP-like \\\\\n\t T34S  & T &  34 & S & -0.38168152 & beneficial\\\\\n\t T34Q  & T &  34 & Q & -1.02162358 & neutral   \\\\\n\t T34D  & T &  34 & D & -0.90257556 & neutral   \\\\\n\t T34E  & T &  34 & E & -1.10178255 & neutral   \\\\\n\t F58L  & F &  58 & L & -0.98530218 & neutral   \\\\\n\t F58A  & F &  58 & A & -1.04584346 & neutral   \\\\\n\t R78K  & R &  78 & K & -1.86873903 & neutral   \\\\\n\t D79A  & D &  79 & A & -1.92064608 & neutral   \\\\\n\t D79S  & D &  79 & S & -1.70921163 & neutral   \\\\\n\t G80A  & G &  80 & A & -0.28226244 & beneficial\\\\\n\t N84Y  & N &  84 & Y & -1.32423380 & neutral   \\\\\n\t K101R & K & 101 & R & -1.62186059 & neutral   \\\\\n\t N102I & N & 102 & I & -0.54798272 & neutral   \\\\\n\t N102M & N & 102 & M & -0.09161232 & beneficial\\\\\n\t N102K & N & 102 & K & -2.76071624 & STOP-like \\\\\n\t N105L & N & 105 & L & -0.87568306 & neutral   \\\\\n\t N105V & N & 105 & V & -0.74153276 & neutral   \\\\\n\t R108Y & R & 108 & Y & -0.62040010 & neutral   \\\\\n\t R108L & R & 108 & L & -0.58705206 & neutral   \\\\\n\t R108I & R & 108 & I & -0.47962620 & beneficial\\\\\n\t R108A & R & 108 & A & -1.14811871 & neutral   \\\\\n\t R108G & R & 108 & G & -0.88274733 & neutral   \\\\\n\t R108S & R & 108 & S & -0.79810340 & neutral   \\\\\n\t R108Q & R & 108 & Q & -0.73122353 & neutral   \\\\\n\t R108D & R & 108 & D & -0.80199357 & neutral   \\\\\n\t R112A & R & 112 & A & -0.94717468 & neutral   \\\\\n\t R112S & R & 112 & S & -0.91511496 & neutral   \\\\\n\t E115I & E & 115 & I & -1.14581034 & neutral   \\\\\n\t E115A & E & 115 & A & -1.86391125 & neutral   \\\\\n\t K129F & K & 129 & F & -3.21391408 & STOP-like \\\\\n\t K129I & K & 129 & I & -1.22834811 & neutral   \\\\\n\t K129T & K & 129 & T & -0.91513869 & neutral   \\\\\n\t K129E & K & 129 & E & -1.04115226 & neutral   \\\\\n\t K132H & K & 132 & H & -1.73632777 & neutral   \\\\\n\t T137G & T & 137 & G & -0.86319129 & neutral   \\\\\n\t T139A & T & 139 & A & -0.72030827 & neutral   \\\\\n\t T139R & T & 139 & R & -1.36316718 & neutral   \\\\\n\t H141I & H & 141 & I & -0.34702572 & beneficial\\\\\n\t H141V & H & 141 & V & -1.89311206 & neutral   \\\\\n\t H141R & H & 141 & R & -1.42295179 & neutral   \\\\\n\t H141E & H & 141 & E & -2.45690165 & STOP-like \\\\\n\t K143W & K & 143 & W & -1.41420232 & neutral   \\\\\n\t K143Y & K & 143 & Y & -0.10289534 & beneficial\\\\\n\t K143H & K & 143 & H & -0.60743252 & neutral   \\\\\n\t Q147L & Q & 147 & L & -0.62726664 & neutral   \\\\\n\t Q147E & Q & 147 & E & -0.56667296 & neutral   \\\\\n\t Y148I & Y & 148 & I & -0.42439864 & beneficial\\\\\n\t K154M & K & 154 & M & -0.72377329 & neutral   \\\\\n\t Y157A & Y & 157 & A & -2.70423760 & STOP-like \\\\\n\t K169I & K & 169 & I & -1.36568159 & neutral   \\\\\n\t A180T & A & 180 & T & -3.41814286 & STOP-like \\\\\n\\end{tabular}\n",
      "text/plain": "   mutant aa_from position aa_to score       bin       \n1  T34Y   T        34      Y     -1.71981970 neutral   \n2  T34L   T        34      L     -0.78454334 neutral   \n3  T34A   T        34      A     -1.03207030 neutral   \n4  T34G   T        34      G     -4.91296960 STOP-like \n5  T34S   T        34      S     -0.38168152 beneficial\n6  T34Q   T        34      Q     -1.02162358 neutral   \n7  T34D   T        34      D     -0.90257556 neutral   \n8  T34E   T        34      E     -1.10178255 neutral   \n9  F58L   F        58      L     -0.98530218 neutral   \n10 F58A   F        58      A     -1.04584346 neutral   \n11 R78K   R        78      K     -1.86873903 neutral   \n12 D79A   D        79      A     -1.92064608 neutral   \n13 D79S   D        79      S     -1.70921163 neutral   \n14 G80A   G        80      A     -0.28226244 beneficial\n15 N84Y   N        84      Y     -1.32423380 neutral   \n16 K101R  K       101      R     -1.62186059 neutral   \n17 N102I  N       102      I     -0.54798272 neutral   \n18 N102M  N       102      M     -0.09161232 beneficial\n19 N102K  N       102      K     -2.76071624 STOP-like \n20 N105L  N       105      L     -0.87568306 neutral   \n21 N105V  N       105      V     -0.74153276 neutral   \n22 R108Y  R       108      Y     -0.62040010 neutral   \n23 R108L  R       108      L     -0.58705206 neutral   \n24 R108I  R       108      I     -0.47962620 beneficial\n25 R108A  R       108      A     -1.14811871 neutral   \n26 R108G  R       108      G     -0.88274733 neutral   \n27 R108S  R       108      S     -0.79810340 neutral   \n28 R108Q  R       108      Q     -0.73122353 neutral   \n29 R108D  R       108      D     -0.80199357 neutral   \n30 R112A  R       112      A     -0.94717468 neutral   \n31 R112S  R       112      S     -0.91511496 neutral   \n32 E115I  E       115      I     -1.14581034 neutral   \n33 E115A  E       115      A     -1.86391125 neutral   \n34 K129F  K       129      F     -3.21391408 STOP-like \n35 K129I  K       129      I     -1.22834811 neutral   \n36 K129T  K       129      T     -0.91513869 neutral   \n37 K129E  K       129      E     -1.04115226 neutral   \n38 K132H  K       132      H     -1.73632777 neutral   \n39 T137G  T       137      G     -0.86319129 neutral   \n40 T139A  T       139      A     -0.72030827 neutral   \n41 T139R  T       139      R     -1.36316718 neutral   \n42 H141I  H       141      I     -0.34702572 beneficial\n43 H141V  H       141      V     -1.89311206 neutral   \n44 H141R  H       141      R     -1.42295179 neutral   \n45 H141E  H       141      E     -2.45690165 STOP-like \n46 K143W  K       143      W     -1.41420232 neutral   \n47 K143Y  K       143      Y     -0.10289534 beneficial\n48 K143H  K       143      H     -0.60743252 neutral   \n49 Q147L  Q       147      L     -0.62726664 neutral   \n50 Q147E  Q       147      E     -0.56667296 neutral   \n51 Y148I  Y       148      I     -0.42439864 beneficial\n52 K154M  K       154      M     -0.72377329 neutral   \n53 Y157A  Y       157      A     -2.70423760 STOP-like \n54 K169I  K       169      I     -1.36568159 neutral   \n55 A180T  A       180      T     -3.41814286 STOP-like "
     },
     "metadata": {}
    }
   ],
   "source": [
    "dms_6gen filter(, mutant %in% unique(emap$mutant))"
   ]
  },
  {
   "cell_type": "code",
   "execution_count": null,
   "metadata": {},
   "outputs": [],
   "source": []
  },
  {
   "cell_type": "code",
   "execution_count": null,
   "metadata": {},
   "outputs": [],
   "source": []
  },
  {
   "cell_type": "code",
   "execution_count": null,
   "metadata": {},
   "outputs": [],
   "source": []
  },
  {
   "cell_type": "code",
   "execution_count": null,
   "metadata": {},
   "outputs": [],
   "source": []
  },
  {
   "cell_type": "code",
   "execution_count": null,
   "metadata": {},
   "outputs": [],
   "source": []
  },
  {
   "cell_type": "code",
   "execution_count": null,
   "metadata": {},
   "outputs": [],
   "source": []
  },
  {
   "cell_type": "code",
   "execution_count": null,
   "metadata": {},
   "outputs": [],
   "source": []
  },
  {
   "cell_type": "code",
   "execution_count": null,
   "metadata": {},
   "outputs": [],
   "source": []
  },
  {
   "cell_type": "code",
   "execution_count": null,
   "metadata": {},
   "outputs": [],
   "source": []
  },
  {
   "cell_type": "code",
   "execution_count": null,
   "metadata": {},
   "outputs": [],
   "source": []
  },
  {
   "cell_type": "code",
   "execution_count": null,
   "metadata": {},
   "outputs": [],
   "source": []
  },
  {
   "cell_type": "code",
   "execution_count": null,
   "metadata": {},
   "outputs": [],
   "source": []
  },
  {
   "cell_type": "code",
   "execution_count": null,
   "metadata": {},
   "outputs": [],
   "source": []
  },
  {
   "cell_type": "code",
   "execution_count": null,
   "metadata": {},
   "outputs": [],
   "source": []
  },
  {
   "cell_type": "code",
   "execution_count": null,
   "metadata": {},
   "outputs": [],
   "source": []
  },
  {
   "cell_type": "code",
   "execution_count": null,
   "metadata": {},
   "outputs": [],
   "source": []
  },
  {
   "cell_type": "code",
   "execution_count": null,
   "metadata": {},
   "outputs": [],
   "source": []
  },
  {
   "cell_type": "code",
   "execution_count": null,
   "metadata": {},
   "outputs": [],
   "source": []
  },
  {
   "cell_type": "code",
   "execution_count": null,
   "metadata": {},
   "outputs": [],
   "source": []
  },
  {
   "cell_type": "code",
   "execution_count": null,
   "metadata": {},
   "outputs": [],
   "source": []
  },
  {
   "cell_type": "code",
   "execution_count": null,
   "metadata": {},
   "outputs": [],
   "source": []
  },
  {
   "cell_type": "code",
   "execution_count": null,
   "metadata": {},
   "outputs": [],
   "source": []
  }
 ]
}