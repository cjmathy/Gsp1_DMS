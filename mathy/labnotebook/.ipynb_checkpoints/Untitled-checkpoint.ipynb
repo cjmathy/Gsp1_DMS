{
 "cells": [
  {
   "cell_type": "markdown",
   "metadata": {},
   "source": [
    "# 20200112_plot_CD_HPLC"
   ]
  },
  {
   "cell_type": "code",
   "execution_count": 5,
   "metadata": {},
   "outputs": [],
   "source": [
    "library(tidyverse)\n",
    "library(scales)\n",
    "library(minpack.lm)\n",
    "source('ucsf_colors.R')\n",
    "\n",
    "# Parsing function, which returns a list of two dataframes per experiment: data and metadata\n",
    "parse_CD_file = function(filepath) {\n",
    "  \n",
    "  connection = file(filepath, \"r\")\n",
    "  metadata <- data.frame(param=character(), value=character(), stringsAsFactors=F) \n",
    "  last_param = ''\n",
    "  while (T) {\n",
    "    line <- strsplit(readLines(connection, n = 1), split = '\\t')\n",
    "    last_param <- line[[1]][1]\n",
    "    if ( length(line) == 0 | last_param == 'XYDATA') {\n",
    "      break\n",
    "    }\n",
    "    metadata <- rbind(metadata, data.frame('param'=line[[1]][1],\n",
    "                                           'value'=line[[1]][2],\n",
    "                                           stringsAsFactors=F))\n",
    "  }\n",
    "  \n",
    "  X <- as.character(subset(metadata, param == 'XUNITS')$value)\n",
    "  Y <- as.character(subset(metadata, param == 'YUNITS')$value)\n",
    "  Y2 <- as.character(subset(metadata, param == 'Y2UNITS')$value)\n",
    "  \n",
    "  data <- data.frame(X=character(), Y=character(), Y2=character(), stringsAsFactors=F) \n",
    "\n",
    "  while (T) {\n",
    "    line <- strsplit(readLines(connection, n = 1), split = '\\t')\n",
    "    if ( length(line) == 0 ) {\n",
    "      break\n",
    "    }\n",
    "    data <- rbind(data, data.frame('X'=as.numeric(line[[1]][1]),\n",
    "                                   'Y'=as.numeric(line[[1]][2]),\n",
    "                                   'Y2'=as.numeric(line[[1]][3])))\n",
    "  }\n",
    "  colnames(data) <- c(X, Y, Y2)\n",
    "  close(connection)\n",
    "  \n",
    "  # Scale CD data from ellipticity (millidegrees) to molar ellipticity (deg*cm*dmol-1)\n",
    "  # pathlength = 0.2 cm, concentration = 2e-6 M\n",
    "  data <- mutate(data, 'Molar ellipticity' = 100 * (`CD[mdeg]`/1000) / (0.2 *2e-6))\n",
    "  \n",
    "  return(list(data = data,\n",
    "              metadata = metadata,\n",
    "              name = substr(filepath, 25, nchar(filepath) - 9)))\n",
    "}\n",
    "\n",
    "# Function for fitting a sigmoid to a CD melt curve\n",
    "fit_sigmoid_to_melt <- function(data) {\n",
    "  x <- data$`Temperature [C]`\n",
    "  y <- data$`Molar ellipticity`\n",
    "  approx_Tm <- x[which.min(abs(y - mean(y)))]\n",
    "  nls(y ~ ((yf + mf*x) + (yu + mu*x)*exp(m*(1/Tm - 1/x))) / (1 + exp(m*(1/Tm - 1/x))),\n",
    "        start = list(m = 2000, Tm = approx_Tm, mf = 0, mu = 0, yf = min(y), yu = max(y)))\n",
    "}\n",
    "\n",
    "# Plotting functions, for melts and scans\n",
    "plot_melt <- function(expt) {\n",
    "\n",
    "  sigmoid_model <- fit_sigmoid_to_melt(expt$data)\n",
    "  data_to_plot <- mutate(expt$data, 'fit' = predict(sigmoid_model, `Temperature [C]`)) \n",
    "  Tm <- summary(sigmoid_model)$coefficients[2,1]\n",
    "  x <- data_to_plot$`Temperature [C]`\n",
    "  y <- data_to_plot$fit\n",
    "\n",
    "  plot <-\n",
    "    ggplot(data_to_plot) +\n",
    "    geom_point(aes_string(x = '`Temperature [C]`', y = '`Molar ellipticity`'), size = 0.1) +\n",
    "    geom_line(aes_string(x = '`Temperature [C]`', y = 'fit'), size = 0.2, color = ucsf_colors$pink1) +\n",
    "    scale_y_continuous(breaks = pretty_breaks(), label=scientific_format()) +\n",
    "    geom_vline(xintercept = Tm, color = ucsf_colors$blue1, linetype = 'dashed', size = 0.2) +\n",
    "    ggtitle(paste(expt$name, paste0('approx Tm = ', round(Tm, digits = 1)), sep='\\n')) +\n",
    "    xlab('Temperature (°C)') +\n",
    "    ylab('Molar Ellipticity (deg * cm / dmol)') +\n",
    "    theme_classic() +\n",
    "    theme(\n",
    "      text = element_text(family = \"Helvetica\", size = 6),\n",
    "      axis.title = element_text(size = 6),\n",
    "      axis.text = element_text(size = 6),\n",
    "      axis.ticks = element_line(size = 0.05),\n",
    "      axis.ticks.length = unit(0.05, 'cm'),\n",
    "      axis.line = element_line(size = 0.1),\n",
    "      plot.title = element_text(hjust = 0.5, size = 6)\n",
    "    )\n",
    "  \n",
    "  return(list(plot = plot, Tm_data = c(expt$name, round(Tm, digits = 1))))\n",
    "}\n",
    "\n",
    "plot_scan <- function(expt) {\n",
    "  ggplot(expt$data, aes_string(x = '`NANOMETERS`', y = '`Molar ellipticity`')) +\n",
    "    geom_line(size = 0.2) +\n",
    "    scale_y_continuous(breaks= pretty_breaks()) +\n",
    "    geom_hline(yintercept = 0, color = ucsf_colors$pink1, linetype = 'dashed', size = 0.2) + \n",
    "    ggtitle(expt$name) +\n",
    "    xlab('Wavelength (nm)') +\n",
    "    ylab('Molar Ellipticity (deg * cm / dmol)') +\n",
    "    theme_classic() +\n",
    "    theme(\n",
    "      text = element_text(family = \"Helvetica\", size = 6),\n",
    "      axis.title = element_text(size = 6),\n",
    "      axis.text = element_text(size = 6),\n",
    "      axis.ticks = element_line(size = 0.05),\n",
    "      axis.ticks.length = unit(0.05, 'cm'),\n",
    "      axis.line = element_line(size = 0.1),\n",
    "      plot.title = element_text(hjust = 0.5, size = 6)\n",
    "    )\n",
    "}"
   ]
  },
  {
   "cell_type": "code",
   "execution_count": 6,
   "metadata": {},
   "outputs": [
    {
     "name": "stdout",
     "output_type": "stream",
     "text": [
      "$`01112_F28V`\n",
      "\n",
      "$`01112_F28Y`\n",
      "\n"
     ]
    },
    {
     "data": {
      "text/html": [
       "<strong>pdf:</strong> 2"
      ],
      "text/latex": [
       "\\textbf{pdf:} 2"
      ],
      "text/markdown": [
       "**pdf:** 2"
      ],
      "text/plain": [
       "pdf \n",
       "  2 "
      ]
     },
     "metadata": {},
     "output_type": "display_data"
    },
    {
     "name": "stdout",
     "output_type": "stream",
     "text": [
      "$`01112_F28V_GDP_Buffer_Subtr`\n",
      "\n",
      "$`01112_F28V_GDP_melted_Buffer_subtr`\n",
      "\n",
      "$`01112_F28Y_GDP_Buffer_Subtr`\n",
      "\n"
     ]
    },
    {
     "data": {
      "text/html": [
       "<strong>pdf:</strong> 2"
      ],
      "text/latex": [
       "\\textbf{pdf:} 2"
      ],
      "text/markdown": [
       "**pdf:** 2"
      ],
      "text/plain": [
       "pdf \n",
       "  2 "
      ]
     },
     "metadata": {},
     "output_type": "display_data"
    }
   ],
   "source": [
    "\n",
    "# set data directory\n",
    "dir = '../data/CD/20201112/'\n",
    "\n",
    "# import melts\n",
    "melts_filenames = dir(path = dir, pattern = '*Melt.txt', full.names = T)\n",
    "melts <- lapply(melts_filenames, parse_CD_file)\n",
    "names(melts) <- lapply(melts_filenames, function(x) substr(x, 25, nchar(x) - 9))\n",
    "\n",
    "# plot melts and make a table of apparent Tms\n",
    "melt_output <- lapply(melts, plot_melt)\n",
    "\n",
    "plot_list <- lapply(melt_output, function(x) x[[1]])\n",
    "pdf(paste0(dir,'CD_Melt_Plots.pdf'), height = 1.5, width = 2, onefile = TRUE)\n",
    "invisible(print(plot_list))\n",
    "dev.off()\n",
    "\n",
    "# import scans\n",
    "scans_filenames = dir(path = dir, pattern = '*ubtracted.txt', full.names = T)\n",
    "scans <- lapply(scans_filenames, parse_CD_file)\n",
    "names(scans) <- lapply(scans_filenames, function(x) substr(x, 25, nchar(x) - 9))\n",
    "\n",
    "# plot scans\n",
    "pdf(paste0(dir,'CD_Scan_Plots.pdf'), height = 1.5, width = 2, onefile = TRUE)\n",
    "invisible(print(lapply(scans, plot_scan)))\n",
    "dev.off()\n",
    "\n",
    "\n",
    "\n",
    "\n",
    "\n",
    "\n",
    "\n"
   ]
  },
  {
   "cell_type": "code",
   "execution_count": null,
   "metadata": {},
   "outputs": [],
   "source": []
  }
 ],
 "metadata": {
  "kernelspec": {
   "display_name": "R",
   "language": "R",
   "name": "ir"
  },
  "language_info": {
   "codemirror_mode": "r",
   "file_extension": ".r",
   "mimetype": "text/x-r-source",
   "name": "R",
   "pygments_lexer": "r",
   "version": "4.0.3"
  }
 },
 "nbformat": 4,
 "nbformat_minor": 4
}
