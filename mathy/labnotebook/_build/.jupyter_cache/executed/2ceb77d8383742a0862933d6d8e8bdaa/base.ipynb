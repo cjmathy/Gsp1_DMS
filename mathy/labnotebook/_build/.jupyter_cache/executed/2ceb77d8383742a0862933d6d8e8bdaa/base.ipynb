{
 "cells": [
  {
   "cell_type": "code",
   "execution_count": 1,
   "id": "lesser-simulation",
   "metadata": {},
   "outputs": [
    {
     "ename": "ERROR",
     "evalue": "Error in read_excel(\"20210121_sensor_calib.xslx\"): could not find function \"read_excel\"\n",
     "output_type": "error",
     "traceback": [
      "Error in read_excel(\"20210121_sensor_calib.xslx\"): could not find function \"read_excel\"\nTraceback:\n"
     ]
    }
   ],
   "source": [
    "read_excel('20210121_sensor_calib.xslx')"
   ]
  }
 ],
 "metadata": {
  "jupytext": {
   "text_representation": {
    "extension": ".md",
    "format_name": "myst"
   }
  },
  "kernelspec": {
   "display_name": "R",
   "language": "R",
   "name": "ir"
  },
  "language_info": {
   "codemirror_mode": "r",
   "file_extension": ".r",
   "mimetype": "text/x-r-source",
   "name": "R",
   "pygments_lexer": "r",
   "version": "4.0.3"
  },
  "source_map": [
   10,
   30
  ]
 },
 "nbformat": 4,
 "nbformat_minor": 5
}