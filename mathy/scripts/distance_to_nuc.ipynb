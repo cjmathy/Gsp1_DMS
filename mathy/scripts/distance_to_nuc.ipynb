{
 "cells": [
  {
   "cell_type": "markdown",
   "metadata": {},
   "source": [
    "# compute per position distance from nucleotide"
   ]
  },
  {
   "cell_type": "code",
   "execution_count": 1,
   "metadata": {},
   "outputs": [
    {
     "name": "stdout",
     "output_type": "stream",
     "text": [
      "PyRosetta-4 2020 [Rosetta PyRosetta4.Release.python38.mac 2020.28+release.8ecab77aa50ac1301efe53641e07e09ac91fee3b 2020-07-07T16:41:06] retrieved from: http://www.pyrosetta.org\n",
      "(C) Copyright Rosetta Commons Member Institutions. Created in JHU by Sergey Lyskov and PyRosetta Team.\n",
      "\u001b[0mcore.init: \u001b[0mChecking for fconfig files in pwd and ./rosetta/flags\n",
      "\u001b[0mcore.init: \u001b[0mRosetta version: PyRosetta4.Release.python38.mac r260 2020.28+release.8ecab77aa50 8ecab77aa50ac1301efe53641e07e09ac91fee3b http://www.pyrosetta.org 2020-07-07T16:41:06\n",
      "\u001b[0mcore.init: \u001b[0mcommand: PyRosetta -ex1 -ex2aro -database /Users/cjmathy/.local/share/virtualenvs/mathy-tyATzJDR/lib/python3.8/site-packages/pyrosetta/database\n",
      "\u001b[0mbasic.random.init_random_generator: \u001b[0m'RNG device' seed mode, using '/dev/urandom', seed=-2025576504 seed_offset=0 real_seed=-2025576504\n",
      "\u001b[0mbasic.random.init_random_generator: \u001b[0mRandomGenerator:init: Normal mode, seed=-2025576504 RG_type=mt19937\n"
     ]
    }
   ],
   "source": [
    "import pyrosetta\n",
    "from pyrosetta import *\n",
    "init()"
   ]
  },
  {
   "cell_type": "code",
   "execution_count": 2,
   "metadata": {},
   "outputs": [
    {
     "name": "stdout",
     "output_type": "stream",
     "text": [
      "\u001b[0mcore.chemical.GlobalResidueTypeSet: \u001b[0mFinished initializing fa_standard residue type set.  Created 981 residue types\n",
      "\u001b[0mcore.chemical.GlobalResidueTypeSet: \u001b[0mTotal time to initialize 0.93412 seconds.\n",
      "\u001b[0mcore.import_pose.import_pose: \u001b[0mFile '../../Data/pdbs_ran/3m1i.pdb' automatically determined to be of type PDB\n",
      "\u001b[0mcore.io.pose_from_sfr.PoseFromSFRBuilder: \u001b[0mAdding undetected upper terminus type to residue 200,  217 A\n",
      "\u001b[0mcore.io.pose_from_sfr.PoseFromSFRBuilder: \u001b[0mAdding undetected upper terminus type to residue 201, 1177 A\n",
      "\u001b[0mcore.io.pose_from_sfr.chirality_resolution: \u001b[0mFlipping atom xyz for H5' and H5'' for residue GTP\n",
      "\u001b[0mcore.conformation.Conformation: \u001b[0m\u001b[1m[ WARNING ]\u001b[0m missing heavyatom:  OXT on residue ALA:CtermProteinFull 200\n"
     ]
    }
   ],
   "source": [
    "gsp1 = pose_from_pdb('../../Data/pdbs_ran/3m1i.pdb')"
   ]
  },
  {
   "cell_type": "markdown",
   "metadata": {},
   "source": [
    "nucleotide is seqpos = 201"
   ]
  },
  {
   "cell_type": "code",
   "execution_count": 6,
   "metadata": {},
   "outputs": [
    {
     "name": "stdout",
     "output_type": "stream",
     "text": [
      "[19, 20, 21, 22, 23, 24, 25, 26, 27, 28, 37, 38, 39, 40, 41, 42, 43, 44, 67, 68, 69, 70, 71, 124, 125, 127, 128, 152, 153, 154, 1177, 1178]\n"
     ]
    }
   ],
   "source": [
    "def get_heavy_atoms(res):\n",
    "    return [atom for i, atom in enumerate(res.atoms()) \n",
    "            if 'H' not in res.atom_name(i+1)]\n",
    "\n",
    "def residues_contact(res1, res2, cutoff):\n",
    "    for atom1 in get_heavy_atoms(res1):\n",
    "        for atom2 in get_heavy_atoms(res2):\n",
    "            if (atom1.xyz() - atom2.xyz()).norm() < cutoff:\n",
    "                return True    \n",
    "    return False\n",
    "\n",
    "nucleotide = gsp1.residue(201)\n",
    "contacting_residues = []\n",
    "\n",
    "for residue in gsp1.residues:\n",
    "    if residues_contact(residue, nucleotide, cutoff=5):\n",
    "        pos = int(gsp1.pdb_info().pose2pdb(residue.seqpos()).split()[0])\n",
    "        contacting_residues.append(pos)\n",
    "\n",
    "        \n",
    "print(contacting_residues)"
   ]
  },
  {
   "cell_type": "markdown",
   "metadata": {},
   "source": [
    "So, using a 5Å cutoff between heavy atoms, the following residues are in contact with the nucleotide\n",
    "\n",
    "- 19-28\n",
    "- 37-44\n",
    "- 67-71\n",
    "- 124-125\n",
    "- 127-128\n",
    "- 152-154"
   ]
  },
  {
   "cell_type": "code",
   "execution_count": 4,
   "metadata": {},
   "outputs": [
    {
     "name": "stdout",
     "output_type": "stream",
     "text": [
      "[19, 20, 21, 22, 23, 24, 25, 26, 27, 28, 37, 38, 39, 40, 41, 42, 43, 44, 45, 67, 68, 69, 70, 71, 74, 91, 124, 125, 126, 127, 128, 151, 152, 153, 154, 155, 1177, 1178]\n"
     ]
    }
   ],
   "source": [
    "contacting_residues_6 = []\n",
    "for residue in gsp1.residues:\n",
    "    if residues_contact(residue, nucleotide, cutoff=6):\n",
    "        pos = int(gsp1.pdb_info().pose2pdb(residue.seqpos()).split()[0])\n",
    "        contacting_residues_6.append(pos)\n",
    "\n",
    "        \n",
    "print(contacting_residues_6)"
   ]
  },
  {
   "cell_type": "code",
   "execution_count": null,
   "metadata": {},
   "outputs": [],
   "source": []
  }
 ],
 "metadata": {
  "kernelspec": {
   "display_name": "Python 3",
   "language": "python",
   "name": "python3"
  },
  "language_info": {
   "codemirror_mode": {
    "name": "ipython",
    "version": 3
   },
   "file_extension": ".py",
   "mimetype": "text/x-python",
   "name": "python",
   "nbconvert_exporter": "python",
   "pygments_lexer": "ipython3",
   "version": "3.8.6"
  }
 },
 "nbformat": 4,
 "nbformat_minor": 4
}
