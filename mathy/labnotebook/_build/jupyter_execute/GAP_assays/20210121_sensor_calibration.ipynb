{
 "cells": [
  {
   "cell_type": "markdown",
   "id": "sensitive-resident",
   "metadata": {},
   "source": [
    "# 2021-01-21 Phosphate Sensor Calibration\n",
    "\n",
    "- Calibration of phosphate sensor for the samples run from 01/17-01/19\n",
    "- Also received a new tube of sensor from the same lot (2198260E), so included that in the testing\n",
    "    - For this tube, I aliquoted into 6 tubes with 33 uL, then had 45 uL leftover that I used for the calibration\n",
    "- Wanted to get a sense for variations between calibrations with the same lot and different dilutions, so I did not mix these two tubes, but instead staggered them so that I had titrations of phosphate concentration read out with both. Then I could build curves with each set separately and both sets together and compare.\n",
    "- One mistake I made was not freeze-thawing the two sensor aliquotes the same number of times. I.e. both tubes were delivered frozen, on dry ice. But the \"sensor 1\" was thawed, aliquoted, and re-frozen with LN2 on 01/17, while the \"sensor 2\" was thawed for the first time on 01/21 and aliquoted, but then immediately diluted for use in the calibration. I probably should have done one additional freeze-thaw cycle for the \"sensor 2\" aliquot, since that matches what is done to the aliquots that are used in the GAP assays.  \n",
    "- Also, it should be noted that the dilutions are slightly different, both from each other and from what is used in the GAP assays. For the GAP assays, I thaw a 33 uL aliquot and dilute 1:4 with 99 uL assay buffer, to 125 uM. For the calibration I diluted instead to 40 uM ( a 40:500 or 1:12.5 dilution), so that I would have a larger volume to pipette (50 uL of 40 uM sensor instead of 19.36 uL of 125 uM sensor).\n",
    "    - For \"sensor 1\" (aliquoted 11/17, from lot 21928260E), this dilution was 33 uL + 379.5 uL buffer (19.5 uL with P20 + 360 uL with P1000). 33 uL diluted to 412.5 with 397.5 uL is a 12.5x dilution\n",
    "    - For \"sensor 2\" (aliquoted 11/21, from lot 21928260E), this dilution was 45 uL + 517.5 uL buffer (17.5 uL with P20 + 500 uL with P1000). 45 uL diluted to 562.5 with 517.5 uL is a 12.5x dilution\n",
    "- The buffer was the same assay buffer from GAP assays: 40 mM HEPES pH 7.5, 100 mM NaCl, 4 mM MgCl2, 1 mM DTT\n",
    "- The phosphate samples were made using 100 mM dibasic potassium phosphate (K2HPO4), prepared previously by Tina.\n",
    "- The dilutions were from 15 uM down to 0 uM, and the expected linear regime according to Tina is 60% of the sensor concentration (so up to 12 uM of phosphate for 20 uM of sensor)\n",
    "- The gain was measured at 57, as has been down for all GAP assays in this project, and the signal measured using excitation at 425nm and emission at 457nm\n",
    "- plate set-up at `20210121_sensor_calib.xslx`.\n",
    "    - One thing to note is that I did not have enough of sensor 1 for sample 14, which was supposed to have 14 uM phosphate. I left this one last intentionally in case I would run out. I did have enough of sensor 1 for this sample, but before I realized this I had removed the buffer and phosphate from well B4. So I remade the sample in B6, and that change is reflected in the excel table"
   ]
  },
  {
   "cell_type": "code",
   "execution_count": 1,
   "id": "pediatric-block",
   "metadata": {
    "tags": [
     "remove-stderr"
    ]
   },
   "outputs": [
    {
     "name": "stderr",
     "output_type": "stream",
     "text": [
      "── \u001b[1mAttaching packages\u001b[22m ───────────────────────────────────────────────────────────────────────────────────────────────────────────────── tidyverse 1.3.0 ──\n",
      "\n"
     ]
    },
    {
     "name": "stderr",
     "output_type": "stream",
     "text": [
      "\u001b[32m✔\u001b[39m \u001b[34mggplot2\u001b[39m 3.3.2     \u001b[32m✔\u001b[39m \u001b[34mpurrr  \u001b[39m 0.3.4\n",
      "\u001b[32m✔\u001b[39m \u001b[34mtibble \u001b[39m 3.0.4     \u001b[32m✔\u001b[39m \u001b[34mdplyr  \u001b[39m 1.0.2\n",
      "\u001b[32m✔\u001b[39m \u001b[34mtidyr  \u001b[39m 1.1.2     \u001b[32m✔\u001b[39m \u001b[34mstringr\u001b[39m 1.4.0\n",
      "\u001b[32m✔\u001b[39m \u001b[34mreadr  \u001b[39m 1.4.0     \u001b[32m✔\u001b[39m \u001b[34mforcats\u001b[39m 0.5.0\n",
      "\n"
     ]
    },
    {
     "name": "stderr",
     "output_type": "stream",
     "text": [
      "── \u001b[1mConflicts\u001b[22m ──────────────────────────────────────────────────────────────────────────────────────────────────────────────────── tidyverse_conflicts() ──\n",
      "\u001b[31m✖\u001b[39m \u001b[34mdplyr\u001b[39m::\u001b[32mfilter()\u001b[39m masks \u001b[34mstats\u001b[39m::filter()\n",
      "\u001b[31m✖\u001b[39m \u001b[34mdplyr\u001b[39m::\u001b[32mlag()\u001b[39m    masks \u001b[34mstats\u001b[39m::lag()\n",
      "\n"
     ]
    },
    {
     "data": {
      "text/html": [
       "<table>\n",
       "<caption>A tibble: 17 × 9</caption>\n",
       "<thead>\n",
       "\t<tr><th scope=col>well</th><th scope=col>sample</th><th scope=col>sensor</th><th scope=col>volume of P stock (uL)</th><th scope=col>volume of buffer (uL)</th><th scope=col>conc of 2x P (uM)</th><th scope=col>final conc P (uM)</th><th scope=col>P stock conc (uM)</th><th scope=col>volume of 2x P</th></tr>\n",
       "\t<tr><th scope=col>&lt;chr&gt;</th><th scope=col>&lt;chr&gt;</th><th scope=col>&lt;dbl&gt;</th><th scope=col>&lt;dbl&gt;</th><th scope=col>&lt;dbl&gt;</th><th scope=col>&lt;dbl&gt;</th><th scope=col>&lt;dbl&gt;</th><th scope=col>&lt;dbl&gt;</th><th scope=col>&lt;dbl&gt;</th></tr>\n",
       "</thead>\n",
       "<tbody>\n",
       "\t<tr><td>A1 </td><td>buffer 2</td><td>2</td><td> 0</td><td>50</td><td> 0</td><td> 0.0</td><td> 0.0</td><td> 0</td></tr>\n",
       "\t<tr><td>A2 </td><td>buffer 1</td><td>1</td><td> 0</td><td>50</td><td> 0</td><td> 0.0</td><td> 0.0</td><td> 0</td></tr>\n",
       "\t<tr><td>A3 </td><td>1       </td><td>2</td><td> 4</td><td>46</td><td> 1</td><td> 0.5</td><td>12.5</td><td>50</td></tr>\n",
       "\t<tr><td>A4 </td><td>2       </td><td>1</td><td> 8</td><td>42</td><td> 2</td><td> 1.0</td><td>12.5</td><td>50</td></tr>\n",
       "\t<tr><td>A5 </td><td>3       </td><td>2</td><td>16</td><td>34</td><td> 4</td><td> 2.0</td><td>12.5</td><td>50</td></tr>\n",
       "\t<tr><td>A6 </td><td>4       </td><td>1</td><td>24</td><td>26</td><td> 6</td><td> 3.0</td><td>12.5</td><td>50</td></tr>\n",
       "\t<tr><td>A7 </td><td>5       </td><td>2</td><td> 8</td><td>42</td><td> 8</td><td> 4.0</td><td>50.0</td><td>50</td></tr>\n",
       "\t<tr><td>A8 </td><td>6       </td><td>1</td><td>10</td><td>40</td><td>10</td><td> 5.0</td><td>50.0</td><td>50</td></tr>\n",
       "\t<tr><td>A9 </td><td>7       </td><td>2</td><td>12</td><td>38</td><td>12</td><td> 6.0</td><td>50.0</td><td>50</td></tr>\n",
       "\t<tr><td>A10</td><td>8       </td><td>1</td><td>14</td><td>36</td><td>14</td><td> 7.0</td><td>50.0</td><td>50</td></tr>\n",
       "\t<tr><td>A11</td><td>9       </td><td>2</td><td>16</td><td>34</td><td>16</td><td> 8.0</td><td>50.0</td><td>50</td></tr>\n",
       "\t<tr><td>A12</td><td>10      </td><td>1</td><td>18</td><td>32</td><td>18</td><td> 9.0</td><td>50.0</td><td>50</td></tr>\n",
       "\t<tr><td>B1 </td><td>11      </td><td>2</td><td>20</td><td>30</td><td>20</td><td>10.0</td><td>50.0</td><td>50</td></tr>\n",
       "\t<tr><td>B2 </td><td>12      </td><td>1</td><td>22</td><td>28</td><td>22</td><td>11.0</td><td>50.0</td><td>50</td></tr>\n",
       "\t<tr><td>B3 </td><td>13      </td><td>2</td><td>24</td><td>26</td><td>24</td><td>12.0</td><td>50.0</td><td>50</td></tr>\n",
       "\t<tr><td>B6 </td><td>14      </td><td>2</td><td>28</td><td>22</td><td>28</td><td>14.0</td><td>50.0</td><td>50</td></tr>\n",
       "\t<tr><td>B5 </td><td>15      </td><td>2</td><td>30</td><td>20</td><td>30</td><td>15.0</td><td>50.0</td><td>50</td></tr>\n",
       "</tbody>\n",
       "</table>\n"
      ],
      "text/latex": [
       "A tibble: 17 × 9\n",
       "\\begin{tabular}{lllllllll}\n",
       " well & sample & sensor & volume of P stock (uL) & volume of buffer (uL) & conc of 2x P (uM) & final conc P (uM) & P stock conc (uM) & volume of 2x P\\\\\n",
       " <chr> & <chr> & <dbl> & <dbl> & <dbl> & <dbl> & <dbl> & <dbl> & <dbl>\\\\\n",
       "\\hline\n",
       "\t A1  & buffer 2 & 2 &  0 & 50 &  0 &  0.0 &  0.0 &  0\\\\\n",
       "\t A2  & buffer 1 & 1 &  0 & 50 &  0 &  0.0 &  0.0 &  0\\\\\n",
       "\t A3  & 1        & 2 &  4 & 46 &  1 &  0.5 & 12.5 & 50\\\\\n",
       "\t A4  & 2        & 1 &  8 & 42 &  2 &  1.0 & 12.5 & 50\\\\\n",
       "\t A5  & 3        & 2 & 16 & 34 &  4 &  2.0 & 12.5 & 50\\\\\n",
       "\t A6  & 4        & 1 & 24 & 26 &  6 &  3.0 & 12.5 & 50\\\\\n",
       "\t A7  & 5        & 2 &  8 & 42 &  8 &  4.0 & 50.0 & 50\\\\\n",
       "\t A8  & 6        & 1 & 10 & 40 & 10 &  5.0 & 50.0 & 50\\\\\n",
       "\t A9  & 7        & 2 & 12 & 38 & 12 &  6.0 & 50.0 & 50\\\\\n",
       "\t A10 & 8        & 1 & 14 & 36 & 14 &  7.0 & 50.0 & 50\\\\\n",
       "\t A11 & 9        & 2 & 16 & 34 & 16 &  8.0 & 50.0 & 50\\\\\n",
       "\t A12 & 10       & 1 & 18 & 32 & 18 &  9.0 & 50.0 & 50\\\\\n",
       "\t B1  & 11       & 2 & 20 & 30 & 20 & 10.0 & 50.0 & 50\\\\\n",
       "\t B2  & 12       & 1 & 22 & 28 & 22 & 11.0 & 50.0 & 50\\\\\n",
       "\t B3  & 13       & 2 & 24 & 26 & 24 & 12.0 & 50.0 & 50\\\\\n",
       "\t B6  & 14       & 2 & 28 & 22 & 28 & 14.0 & 50.0 & 50\\\\\n",
       "\t B5  & 15       & 2 & 30 & 20 & 30 & 15.0 & 50.0 & 50\\\\\n",
       "\\end{tabular}\n"
      ],
      "text/markdown": [
       "\n",
       "A tibble: 17 × 9\n",
       "\n",
       "| well &lt;chr&gt; | sample &lt;chr&gt; | sensor &lt;dbl&gt; | volume of P stock (uL) &lt;dbl&gt; | volume of buffer (uL) &lt;dbl&gt; | conc of 2x P (uM) &lt;dbl&gt; | final conc P (uM) &lt;dbl&gt; | P stock conc (uM) &lt;dbl&gt; | volume of 2x P &lt;dbl&gt; |\n",
       "|---|---|---|---|---|---|---|---|---|\n",
       "| A1  | buffer 2 | 2 |  0 | 50 |  0 |  0.0 |  0.0 |  0 |\n",
       "| A2  | buffer 1 | 1 |  0 | 50 |  0 |  0.0 |  0.0 |  0 |\n",
       "| A3  | 1        | 2 |  4 | 46 |  1 |  0.5 | 12.5 | 50 |\n",
       "| A4  | 2        | 1 |  8 | 42 |  2 |  1.0 | 12.5 | 50 |\n",
       "| A5  | 3        | 2 | 16 | 34 |  4 |  2.0 | 12.5 | 50 |\n",
       "| A6  | 4        | 1 | 24 | 26 |  6 |  3.0 | 12.5 | 50 |\n",
       "| A7  | 5        | 2 |  8 | 42 |  8 |  4.0 | 50.0 | 50 |\n",
       "| A8  | 6        | 1 | 10 | 40 | 10 |  5.0 | 50.0 | 50 |\n",
       "| A9  | 7        | 2 | 12 | 38 | 12 |  6.0 | 50.0 | 50 |\n",
       "| A10 | 8        | 1 | 14 | 36 | 14 |  7.0 | 50.0 | 50 |\n",
       "| A11 | 9        | 2 | 16 | 34 | 16 |  8.0 | 50.0 | 50 |\n",
       "| A12 | 10       | 1 | 18 | 32 | 18 |  9.0 | 50.0 | 50 |\n",
       "| B1  | 11       | 2 | 20 | 30 | 20 | 10.0 | 50.0 | 50 |\n",
       "| B2  | 12       | 1 | 22 | 28 | 22 | 11.0 | 50.0 | 50 |\n",
       "| B3  | 13       | 2 | 24 | 26 | 24 | 12.0 | 50.0 | 50 |\n",
       "| B6  | 14       | 2 | 28 | 22 | 28 | 14.0 | 50.0 | 50 |\n",
       "| B5  | 15       | 2 | 30 | 20 | 30 | 15.0 | 50.0 | 50 |\n",
       "\n"
      ],
      "text/plain": [
       "   well sample   sensor volume of P stock (uL) volume of buffer (uL) conc of 2x P (uM) final conc P (uM) P stock conc (uM) volume of 2x P\n",
       "1  A1   buffer 2 2       0                     50                     0                 0.0               0.0               0            \n",
       "2  A2   buffer 1 1       0                     50                     0                 0.0               0.0               0            \n",
       "3  A3   1        2       4                     46                     1                 0.5              12.5              50            \n",
       "4  A4   2        1       8                     42                     2                 1.0              12.5              50            \n",
       "5  A5   3        2      16                     34                     4                 2.0              12.5              50            \n",
       "6  A6   4        1      24                     26                     6                 3.0              12.5              50            \n",
       "7  A7   5        2       8                     42                     8                 4.0              50.0              50            \n",
       "8  A8   6        1      10                     40                    10                 5.0              50.0              50            \n",
       "9  A9   7        2      12                     38                    12                 6.0              50.0              50            \n",
       "10 A10  8        1      14                     36                    14                 7.0              50.0              50            \n",
       "11 A11  9        2      16                     34                    16                 8.0              50.0              50            \n",
       "12 A12  10       1      18                     32                    18                 9.0              50.0              50            \n",
       "13 B1   11       2      20                     30                    20                10.0              50.0              50            \n",
       "14 B2   12       1      22                     28                    22                11.0              50.0              50            \n",
       "15 B3   13       2      24                     26                    24                12.0              50.0              50            \n",
       "16 B6   14       2      28                     22                    28                14.0              50.0              50            \n",
       "17 B5   15       2      30                     20                    30                15.0              50.0              50            "
      ]
     },
     "metadata": {},
     "output_type": "display_data"
    }
   ],
   "source": [
    "library(tidyverse)\n",
    "library(readxl)\n",
    "read_excel('./20210121_sensor_calib.xlsx')"
   ]
  }
 ],
 "metadata": {
  "jupytext": {
   "text_representation": {
    "extension": ".md",
    "format_name": "myst"
   }
  },
  "kernelspec": {
   "display_name": "R",
   "language": "R",
   "name": "ir"
  },
  "language_info": {
   "codemirror_mode": "r",
   "file_extension": ".r",
   "mimetype": "text/x-r-source",
   "name": "R",
   "pygments_lexer": "r",
   "version": "4.0.3"
  },
  "source_map": [
   10,
   30
  ]
 },
 "nbformat": 4,
 "nbformat_minor": 5
}