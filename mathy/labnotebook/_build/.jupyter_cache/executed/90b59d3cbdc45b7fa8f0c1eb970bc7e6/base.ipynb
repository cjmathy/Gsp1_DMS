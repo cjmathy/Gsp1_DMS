{
 "cells": [
  {
   "cell_type": "code",
   "execution_count": 1,
   "metadata": {},
   "outputs": [
    {
     "name": "stderr",
     "output_type": "stream",
     "text": [
      "── \u001b[1mAttaching packages\u001b[22m ───────────────────────────────────────────────────────────────────────────────────────────────────────────────── tidyverse 1.3.0 ──\n",
      "\n"
     ]
    },
    {
     "name": "stderr",
     "output_type": "stream",
     "text": [
      "\u001b[32m✔\u001b[39m \u001b[34mggplot2\u001b[39m 3.3.2     \u001b[32m✔\u001b[39m \u001b[34mpurrr  \u001b[39m 0.3.4\n",
      "\u001b[32m✔\u001b[39m \u001b[34mtibble \u001b[39m 3.0.4     \u001b[32m✔\u001b[39m \u001b[34mdplyr  \u001b[39m 1.0.2\n",
      "\u001b[32m✔\u001b[39m \u001b[34mtidyr  \u001b[39m 1.1.2     \u001b[32m✔\u001b[39m \u001b[34mstringr\u001b[39m 1.4.0\n",
      "\u001b[32m✔\u001b[39m \u001b[34mreadr  \u001b[39m 1.4.0     \u001b[32m✔\u001b[39m \u001b[34mforcats\u001b[39m 0.5.0\n",
      "\n"
     ]
    },
    {
     "name": "stderr",
     "output_type": "stream",
     "text": [
      "── \u001b[1mConflicts\u001b[22m ──────────────────────────────────────────────────────────────────────────────────────────────────────────────────── tidyverse_conflicts() ──\n",
      "\u001b[31m✖\u001b[39m \u001b[34mdplyr\u001b[39m::\u001b[32mfilter()\u001b[39m masks \u001b[34mstats\u001b[39m::filter()\n",
      "\u001b[31m✖\u001b[39m \u001b[34mdplyr\u001b[39m::\u001b[32mlag()\u001b[39m    masks \u001b[34mstats\u001b[39m::lag()\n",
      "\n"
     ]
    }
   ],
   "source": [
    "library(tidyverse)"
   ]
  },
  {
   "cell_type": "code",
   "execution_count": 2,
   "metadata": {},
   "outputs": [
    {
     "name": "stderr",
     "output_type": "stream",
     "text": [
      "Warning message:\n",
      "“34 parsing failures.\n",
      "row col   expected     actual                                                      file\n",
      " 68  -- 19 columns 1 columns  '../../data/GAP_assay/20210121_Phosphate_Calibration.txt'\n",
      " 69  -- 19 columns 13 columns '../../data/GAP_assay/20210121_Phosphate_Calibration.txt'\n",
      " 70  -- 19 columns 14 columns '../../data/GAP_assay/20210121_Phosphate_Calibration.txt'\n",
      " 71  -- 19 columns 14 columns '../../data/GAP_assay/20210121_Phosphate_Calibration.txt'\n",
      " 72  -- 19 columns 14 columns '../../data/GAP_assay/20210121_Phosphate_Calibration.txt'\n",
      "... ... .......... .......... .........................................................\n",
      "See problems(...) for more details.\n",
      "”\n"
     ]
    }
   ],
   "source": [
    "d <- read_delim('../../data/GAP_assay/20210121_Phosphate_Calibration.txt',\n",
    "                delim='\\t', col_types=cols(), skip=46,\n",
    "                locale = readr::locale(encoding = \"windows-1252\"))"
   ]
  },
  {
   "cell_type": "code",
   "execution_count": 3,
   "metadata": {},
   "outputs": [
    {
     "data": {
      "text/html": [
       "<table>\n",
       "<caption>A tibble: 6 × 19</caption>\n",
       "<thead>\n",
       "\t<tr><th scope=col>Time</th><th scope=col>T° 425,457</th><th scope=col>A1</th><th scope=col>A2</th><th scope=col>A3</th><th scope=col>A4</th><th scope=col>A5</th><th scope=col>A6</th><th scope=col>A7</th><th scope=col>A8</th><th scope=col>A9</th><th scope=col>A10</th><th scope=col>A11</th><th scope=col>A12</th><th scope=col>B1</th><th scope=col>B2</th><th scope=col>B3</th><th scope=col>B5</th><th scope=col>B6</th></tr>\n",
       "\t<tr><th scope=col>&lt;chr&gt;</th><th scope=col>&lt;chr&gt;</th><th scope=col>&lt;chr&gt;</th><th scope=col>&lt;chr&gt;</th><th scope=col>&lt;chr&gt;</th><th scope=col>&lt;chr&gt;</th><th scope=col>&lt;chr&gt;</th><th scope=col>&lt;chr&gt;</th><th scope=col>&lt;chr&gt;</th><th scope=col>&lt;chr&gt;</th><th scope=col>&lt;chr&gt;</th><th scope=col>&lt;chr&gt;</th><th scope=col>&lt;chr&gt;</th><th scope=col>&lt;chr&gt;</th><th scope=col>&lt;dbl&gt;</th><th scope=col>&lt;dbl&gt;</th><th scope=col>&lt;dbl&gt;</th><th scope=col>&lt;dbl&gt;</th><th scope=col>&lt;dbl&gt;</th></tr>\n",
       "</thead>\n",
       "<tbody>\n",
       "\t<tr><td>0:00:00</td><td>30.0</td><td>4733</td><td>32355</td><td>5605</td><td>33505</td><td>8620</td><td>36281</td><td>12657</td><td>37134</td><td>17636</td><td>38142</td><td>20746</td><td>38007</td><td>27205</td><td>39135</td><td>31164</td><td>34559</td><td>33558</td></tr>\n",
       "\t<tr><td>0:00:09</td><td>30.0</td><td>4793</td><td>32496</td><td>5649</td><td>33630</td><td>8684</td><td>36308</td><td>12875</td><td>37198</td><td>17649</td><td>37781</td><td>20886</td><td>38587</td><td>27410</td><td>39282</td><td>31043</td><td>34485</td><td>33951</td></tr>\n",
       "\t<tr><td>0:00:18</td><td>30.0</td><td>4777</td><td>32390</td><td>5638</td><td>33516</td><td>8655</td><td>36232</td><td>12789</td><td>37298</td><td>17606</td><td>38083</td><td>20884</td><td>38192</td><td>27180</td><td>39175</td><td>31389</td><td>34570</td><td>33646</td></tr>\n",
       "\t<tr><td>0:00:27</td><td>30.0</td><td>4779</td><td>32499</td><td>5681</td><td>33998</td><td>8664</td><td>36287</td><td>12871</td><td>37056</td><td>17618</td><td>37851</td><td>20824</td><td>38152</td><td>27337</td><td>39001</td><td>31124</td><td>34596</td><td>33643</td></tr>\n",
       "\t<tr><td>0:00:36</td><td>30.0</td><td>4801</td><td>32461</td><td>5717</td><td>33487</td><td>8698</td><td>36684</td><td>12814</td><td>36872</td><td>17597</td><td>37921</td><td>20738</td><td>38038</td><td>27400</td><td>39176</td><td>31122</td><td>34690</td><td>33672</td></tr>\n",
       "\t<tr><td>0:00:45</td><td>30.0</td><td>4820</td><td>32656</td><td>5722</td><td>33691</td><td>8666</td><td>36204</td><td>12855</td><td>36806</td><td>17781</td><td>37928</td><td>20814</td><td>37937</td><td>27386</td><td>38879</td><td>31041</td><td>34450</td><td>33363</td></tr>\n",
       "</tbody>\n",
       "</table>\n"
      ],
      "text/latex": [
       "A tibble: 6 × 19\n",
       "\\begin{tabular}{lllllllllllllllllll}\n",
       " Time & T° 425,457 & A1 & A2 & A3 & A4 & A5 & A6 & A7 & A8 & A9 & A10 & A11 & A12 & B1 & B2 & B3 & B5 & B6\\\\\n",
       " <chr> & <chr> & <chr> & <chr> & <chr> & <chr> & <chr> & <chr> & <chr> & <chr> & <chr> & <chr> & <chr> & <chr> & <dbl> & <dbl> & <dbl> & <dbl> & <dbl>\\\\\n",
       "\\hline\n",
       "\t 0:00:00 & 30.0 & 4733 & 32355 & 5605 & 33505 & 8620 & 36281 & 12657 & 37134 & 17636 & 38142 & 20746 & 38007 & 27205 & 39135 & 31164 & 34559 & 33558\\\\\n",
       "\t 0:00:09 & 30.0 & 4793 & 32496 & 5649 & 33630 & 8684 & 36308 & 12875 & 37198 & 17649 & 37781 & 20886 & 38587 & 27410 & 39282 & 31043 & 34485 & 33951\\\\\n",
       "\t 0:00:18 & 30.0 & 4777 & 32390 & 5638 & 33516 & 8655 & 36232 & 12789 & 37298 & 17606 & 38083 & 20884 & 38192 & 27180 & 39175 & 31389 & 34570 & 33646\\\\\n",
       "\t 0:00:27 & 30.0 & 4779 & 32499 & 5681 & 33998 & 8664 & 36287 & 12871 & 37056 & 17618 & 37851 & 20824 & 38152 & 27337 & 39001 & 31124 & 34596 & 33643\\\\\n",
       "\t 0:00:36 & 30.0 & 4801 & 32461 & 5717 & 33487 & 8698 & 36684 & 12814 & 36872 & 17597 & 37921 & 20738 & 38038 & 27400 & 39176 & 31122 & 34690 & 33672\\\\\n",
       "\t 0:00:45 & 30.0 & 4820 & 32656 & 5722 & 33691 & 8666 & 36204 & 12855 & 36806 & 17781 & 37928 & 20814 & 37937 & 27386 & 38879 & 31041 & 34450 & 33363\\\\\n",
       "\\end{tabular}\n"
      ],
      "text/markdown": [
       "\n",
       "A tibble: 6 × 19\n",
       "\n",
       "| Time &lt;chr&gt; | T° 425,457 &lt;chr&gt; | A1 &lt;chr&gt; | A2 &lt;chr&gt; | A3 &lt;chr&gt; | A4 &lt;chr&gt; | A5 &lt;chr&gt; | A6 &lt;chr&gt; | A7 &lt;chr&gt; | A8 &lt;chr&gt; | A9 &lt;chr&gt; | A10 &lt;chr&gt; | A11 &lt;chr&gt; | A12 &lt;chr&gt; | B1 &lt;dbl&gt; | B2 &lt;dbl&gt; | B3 &lt;dbl&gt; | B5 &lt;dbl&gt; | B6 &lt;dbl&gt; |\n",
       "|---|---|---|---|---|---|---|---|---|---|---|---|---|---|---|---|---|---|---|\n",
       "| 0:00:00 | 30.0 | 4733 | 32355 | 5605 | 33505 | 8620 | 36281 | 12657 | 37134 | 17636 | 38142 | 20746 | 38007 | 27205 | 39135 | 31164 | 34559 | 33558 |\n",
       "| 0:00:09 | 30.0 | 4793 | 32496 | 5649 | 33630 | 8684 | 36308 | 12875 | 37198 | 17649 | 37781 | 20886 | 38587 | 27410 | 39282 | 31043 | 34485 | 33951 |\n",
       "| 0:00:18 | 30.0 | 4777 | 32390 | 5638 | 33516 | 8655 | 36232 | 12789 | 37298 | 17606 | 38083 | 20884 | 38192 | 27180 | 39175 | 31389 | 34570 | 33646 |\n",
       "| 0:00:27 | 30.0 | 4779 | 32499 | 5681 | 33998 | 8664 | 36287 | 12871 | 37056 | 17618 | 37851 | 20824 | 38152 | 27337 | 39001 | 31124 | 34596 | 33643 |\n",
       "| 0:00:36 | 30.0 | 4801 | 32461 | 5717 | 33487 | 8698 | 36684 | 12814 | 36872 | 17597 | 37921 | 20738 | 38038 | 27400 | 39176 | 31122 | 34690 | 33672 |\n",
       "| 0:00:45 | 30.0 | 4820 | 32656 | 5722 | 33691 | 8666 | 36204 | 12855 | 36806 | 17781 | 37928 | 20814 | 37937 | 27386 | 38879 | 31041 | 34450 | 33363 |\n",
       "\n"
      ],
      "text/plain": [
       "  Time    T° 425,457 A1   A2    A3   A4    A5   A6    A7    A8    A9    A10   A11   A12   B1    B2    B3    B5    B6   \n",
       "1 0:00:00 30.0       4733 32355 5605 33505 8620 36281 12657 37134 17636 38142 20746 38007 27205 39135 31164 34559 33558\n",
       "2 0:00:09 30.0       4793 32496 5649 33630 8684 36308 12875 37198 17649 37781 20886 38587 27410 39282 31043 34485 33951\n",
       "3 0:00:18 30.0       4777 32390 5638 33516 8655 36232 12789 37298 17606 38083 20884 38192 27180 39175 31389 34570 33646\n",
       "4 0:00:27 30.0       4779 32499 5681 33998 8664 36287 12871 37056 17618 37851 20824 38152 27337 39001 31124 34596 33643\n",
       "5 0:00:36 30.0       4801 32461 5717 33487 8698 36684 12814 36872 17597 37921 20738 38038 27400 39176 31122 34690 33672\n",
       "6 0:00:45 30.0       4820 32656 5722 33691 8666 36204 12855 36806 17781 37928 20814 37937 27386 38879 31041 34450 33363"
      ]
     },
     "metadata": {},
     "output_type": "display_data"
    }
   ],
   "source": [
    "head(d)"
   ]
  },
  {
   "cell_type": "code",
   "execution_count": 4,
   "metadata": {},
   "outputs": [],
   "source": [
    "library(tidyverse)\n",
    "library(readxl)"
   ]
  },
  {
   "cell_type": "code",
   "execution_count": 5,
   "metadata": {},
   "outputs": [
    {
     "data": {
      "text/html": [
       "<table>\n",
       "<caption>A tibble: 17 × 9</caption>\n",
       "<thead>\n",
       "\t<tr><th scope=col>well</th><th scope=col>sample</th><th scope=col>sensor</th><th scope=col>volume of P stock (uL)</th><th scope=col>volume of buffer (uL)</th><th scope=col>conc of 2x P (uM)</th><th scope=col>final conc P (uM)</th><th scope=col>P stock conc (uM)</th><th scope=col>volume of 2x P</th></tr>\n",
       "\t<tr><th scope=col>&lt;chr&gt;</th><th scope=col>&lt;chr&gt;</th><th scope=col>&lt;dbl&gt;</th><th scope=col>&lt;dbl&gt;</th><th scope=col>&lt;dbl&gt;</th><th scope=col>&lt;dbl&gt;</th><th scope=col>&lt;dbl&gt;</th><th scope=col>&lt;dbl&gt;</th><th scope=col>&lt;dbl&gt;</th></tr>\n",
       "</thead>\n",
       "<tbody>\n",
       "\t<tr><td>A1 </td><td>buffer 2</td><td>2</td><td> 0</td><td>50</td><td> 0</td><td> 0.0</td><td> 0.0</td><td> 0</td></tr>\n",
       "\t<tr><td>A2 </td><td>buffer 1</td><td>1</td><td> 0</td><td>50</td><td> 0</td><td> 0.0</td><td> 0.0</td><td> 0</td></tr>\n",
       "\t<tr><td>A3 </td><td>1       </td><td>2</td><td> 4</td><td>46</td><td> 1</td><td> 0.5</td><td>12.5</td><td>50</td></tr>\n",
       "\t<tr><td>A4 </td><td>2       </td><td>1</td><td> 8</td><td>42</td><td> 2</td><td> 1.0</td><td>12.5</td><td>50</td></tr>\n",
       "\t<tr><td>A5 </td><td>3       </td><td>2</td><td>16</td><td>34</td><td> 4</td><td> 2.0</td><td>12.5</td><td>50</td></tr>\n",
       "\t<tr><td>A6 </td><td>4       </td><td>1</td><td>24</td><td>26</td><td> 6</td><td> 3.0</td><td>12.5</td><td>50</td></tr>\n",
       "\t<tr><td>A7 </td><td>5       </td><td>2</td><td> 8</td><td>42</td><td> 8</td><td> 4.0</td><td>50.0</td><td>50</td></tr>\n",
       "\t<tr><td>A8 </td><td>6       </td><td>1</td><td>10</td><td>40</td><td>10</td><td> 5.0</td><td>50.0</td><td>50</td></tr>\n",
       "\t<tr><td>A9 </td><td>7       </td><td>2</td><td>12</td><td>38</td><td>12</td><td> 6.0</td><td>50.0</td><td>50</td></tr>\n",
       "\t<tr><td>A10</td><td>8       </td><td>1</td><td>14</td><td>36</td><td>14</td><td> 7.0</td><td>50.0</td><td>50</td></tr>\n",
       "\t<tr><td>A11</td><td>9       </td><td>2</td><td>16</td><td>34</td><td>16</td><td> 8.0</td><td>50.0</td><td>50</td></tr>\n",
       "\t<tr><td>A12</td><td>10      </td><td>1</td><td>18</td><td>32</td><td>18</td><td> 9.0</td><td>50.0</td><td>50</td></tr>\n",
       "\t<tr><td>B1 </td><td>11      </td><td>2</td><td>20</td><td>30</td><td>20</td><td>10.0</td><td>50.0</td><td>50</td></tr>\n",
       "\t<tr><td>B2 </td><td>12      </td><td>1</td><td>22</td><td>28</td><td>22</td><td>11.0</td><td>50.0</td><td>50</td></tr>\n",
       "\t<tr><td>B3 </td><td>13      </td><td>2</td><td>24</td><td>26</td><td>24</td><td>12.0</td><td>50.0</td><td>50</td></tr>\n",
       "\t<tr><td>B6 </td><td>14      </td><td>2</td><td>28</td><td>22</td><td>28</td><td>14.0</td><td>50.0</td><td>50</td></tr>\n",
       "\t<tr><td>B5 </td><td>15      </td><td>2</td><td>30</td><td>20</td><td>30</td><td>15.0</td><td>50.0</td><td>50</td></tr>\n",
       "</tbody>\n",
       "</table>\n"
      ],
      "text/latex": [
       "A tibble: 17 × 9\n",
       "\\begin{tabular}{lllllllll}\n",
       " well & sample & sensor & volume of P stock (uL) & volume of buffer (uL) & conc of 2x P (uM) & final conc P (uM) & P stock conc (uM) & volume of 2x P\\\\\n",
       " <chr> & <chr> & <dbl> & <dbl> & <dbl> & <dbl> & <dbl> & <dbl> & <dbl>\\\\\n",
       "\\hline\n",
       "\t A1  & buffer 2 & 2 &  0 & 50 &  0 &  0.0 &  0.0 &  0\\\\\n",
       "\t A2  & buffer 1 & 1 &  0 & 50 &  0 &  0.0 &  0.0 &  0\\\\\n",
       "\t A3  & 1        & 2 &  4 & 46 &  1 &  0.5 & 12.5 & 50\\\\\n",
       "\t A4  & 2        & 1 &  8 & 42 &  2 &  1.0 & 12.5 & 50\\\\\n",
       "\t A5  & 3        & 2 & 16 & 34 &  4 &  2.0 & 12.5 & 50\\\\\n",
       "\t A6  & 4        & 1 & 24 & 26 &  6 &  3.0 & 12.5 & 50\\\\\n",
       "\t A7  & 5        & 2 &  8 & 42 &  8 &  4.0 & 50.0 & 50\\\\\n",
       "\t A8  & 6        & 1 & 10 & 40 & 10 &  5.0 & 50.0 & 50\\\\\n",
       "\t A9  & 7        & 2 & 12 & 38 & 12 &  6.0 & 50.0 & 50\\\\\n",
       "\t A10 & 8        & 1 & 14 & 36 & 14 &  7.0 & 50.0 & 50\\\\\n",
       "\t A11 & 9        & 2 & 16 & 34 & 16 &  8.0 & 50.0 & 50\\\\\n",
       "\t A12 & 10       & 1 & 18 & 32 & 18 &  9.0 & 50.0 & 50\\\\\n",
       "\t B1  & 11       & 2 & 20 & 30 & 20 & 10.0 & 50.0 & 50\\\\\n",
       "\t B2  & 12       & 1 & 22 & 28 & 22 & 11.0 & 50.0 & 50\\\\\n",
       "\t B3  & 13       & 2 & 24 & 26 & 24 & 12.0 & 50.0 & 50\\\\\n",
       "\t B6  & 14       & 2 & 28 & 22 & 28 & 14.0 & 50.0 & 50\\\\\n",
       "\t B5  & 15       & 2 & 30 & 20 & 30 & 15.0 & 50.0 & 50\\\\\n",
       "\\end{tabular}\n"
      ],
      "text/markdown": [
       "\n",
       "A tibble: 17 × 9\n",
       "\n",
       "| well &lt;chr&gt; | sample &lt;chr&gt; | sensor &lt;dbl&gt; | volume of P stock (uL) &lt;dbl&gt; | volume of buffer (uL) &lt;dbl&gt; | conc of 2x P (uM) &lt;dbl&gt; | final conc P (uM) &lt;dbl&gt; | P stock conc (uM) &lt;dbl&gt; | volume of 2x P &lt;dbl&gt; |\n",
       "|---|---|---|---|---|---|---|---|---|\n",
       "| A1  | buffer 2 | 2 |  0 | 50 |  0 |  0.0 |  0.0 |  0 |\n",
       "| A2  | buffer 1 | 1 |  0 | 50 |  0 |  0.0 |  0.0 |  0 |\n",
       "| A3  | 1        | 2 |  4 | 46 |  1 |  0.5 | 12.5 | 50 |\n",
       "| A4  | 2        | 1 |  8 | 42 |  2 |  1.0 | 12.5 | 50 |\n",
       "| A5  | 3        | 2 | 16 | 34 |  4 |  2.0 | 12.5 | 50 |\n",
       "| A6  | 4        | 1 | 24 | 26 |  6 |  3.0 | 12.5 | 50 |\n",
       "| A7  | 5        | 2 |  8 | 42 |  8 |  4.0 | 50.0 | 50 |\n",
       "| A8  | 6        | 1 | 10 | 40 | 10 |  5.0 | 50.0 | 50 |\n",
       "| A9  | 7        | 2 | 12 | 38 | 12 |  6.0 | 50.0 | 50 |\n",
       "| A10 | 8        | 1 | 14 | 36 | 14 |  7.0 | 50.0 | 50 |\n",
       "| A11 | 9        | 2 | 16 | 34 | 16 |  8.0 | 50.0 | 50 |\n",
       "| A12 | 10       | 1 | 18 | 32 | 18 |  9.0 | 50.0 | 50 |\n",
       "| B1  | 11       | 2 | 20 | 30 | 20 | 10.0 | 50.0 | 50 |\n",
       "| B2  | 12       | 1 | 22 | 28 | 22 | 11.0 | 50.0 | 50 |\n",
       "| B3  | 13       | 2 | 24 | 26 | 24 | 12.0 | 50.0 | 50 |\n",
       "| B6  | 14       | 2 | 28 | 22 | 28 | 14.0 | 50.0 | 50 |\n",
       "| B5  | 15       | 2 | 30 | 20 | 30 | 15.0 | 50.0 | 50 |\n",
       "\n"
      ],
      "text/plain": [
       "   well sample   sensor volume of P stock (uL) volume of buffer (uL) conc of 2x P (uM) final conc P (uM) P stock conc (uM) volume of 2x P\n",
       "1  A1   buffer 2 2       0                     50                     0                 0.0               0.0               0            \n",
       "2  A2   buffer 1 1       0                     50                     0                 0.0               0.0               0            \n",
       "3  A3   1        2       4                     46                     1                 0.5              12.5              50            \n",
       "4  A4   2        1       8                     42                     2                 1.0              12.5              50            \n",
       "5  A5   3        2      16                     34                     4                 2.0              12.5              50            \n",
       "6  A6   4        1      24                     26                     6                 3.0              12.5              50            \n",
       "7  A7   5        2       8                     42                     8                 4.0              50.0              50            \n",
       "8  A8   6        1      10                     40                    10                 5.0              50.0              50            \n",
       "9  A9   7        2      12                     38                    12                 6.0              50.0              50            \n",
       "10 A10  8        1      14                     36                    14                 7.0              50.0              50            \n",
       "11 A11  9        2      16                     34                    16                 8.0              50.0              50            \n",
       "12 A12  10       1      18                     32                    18                 9.0              50.0              50            \n",
       "13 B1   11       2      20                     30                    20                10.0              50.0              50            \n",
       "14 B2   12       1      22                     28                    22                11.0              50.0              50            \n",
       "15 B3   13       2      24                     26                    24                12.0              50.0              50            \n",
       "16 B6   14       2      28                     22                    28                14.0              50.0              50            \n",
       "17 B5   15       2      30                     20                    30                15.0              50.0              50            "
      ]
     },
     "metadata": {},
     "output_type": "display_data"
    }
   ],
   "source": [
    "read_excel('../GAP_assays//20210121_sensor_calib.xlsx')"
   ]
  },
  {
   "cell_type": "code",
   "execution_count": 6,
   "metadata": {},
   "outputs": [
    {
     "name": "stdout",
     "output_type": "stream",
     "text": [
      "\n",
      "The downloaded binary packages are in\n",
      "\t/var/folders/31/2cd8hp7n17b_f8vxg76mrpyr0000gn/T//RtmpIlU5G9/downloaded_packages\n"
     ]
    }
   ],
   "source": [
    "install.packages('readxl')"
   ]
  },
  {
   "cell_type": "code",
   "execution_count": null,
   "metadata": {},
   "outputs": [],
   "source": []
  }
 ],
 "metadata": {
  "kernelspec": {
   "display_name": "R",
   "language": "R",
   "name": "ir"
  },
  "language_info": {
   "codemirror_mode": "r",
   "file_extension": ".r",
   "mimetype": "text/x-r-source",
   "name": "R",
   "pygments_lexer": "r",
   "version": "4.0.3"
  }
 },
 "nbformat": 4,
 "nbformat_minor": 4
}